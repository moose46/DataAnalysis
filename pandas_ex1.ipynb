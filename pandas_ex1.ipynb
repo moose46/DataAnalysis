{
 "cells": [
  {
   "cell_type": "code",
   "execution_count": null,
   "metadata": {},
   "outputs": [],
   "source": [
    "import pandas as pd\n",
    "import numpy as np"
   ]
  },
  {
   "cell_type": "markdown",
   "metadata": {},
   "source": [
    "## 1 Creating a dataframe from an array"
   ]
  },
  {
   "cell_type": "code",
   "execution_count": null,
   "metadata": {},
   "outputs": [],
   "source": [
    "# creating an array\n",
    "data = np.array([[1,4],[2,5],[3,6]])\n",
    "# creating a dataframe\n",
    "df = pd.DataFrame(data,index=['row1','row2','row3'], columns=['col1','col2'])\n",
    "df\n",
    "\n"
   ]
  },
  {
   "cell_type": "code",
   "execution_count": null,
   "metadata": {},
   "outputs": [],
   "source": [
    "# creating an array\n",
    "data = [[1,4],[2,5],[3,6]]\n",
    "# creating a dataframe\n",
    "df = pd.DataFrame(data,index=['row1','row2','row3'], columns=['col1','col2'])\n",
    "df\n"
   ]
  },
  {
   "cell_type": "code",
   "execution_count": null,
   "metadata": {},
   "outputs": [],
   "source": [
    "# lists used for this example\n",
    "states = ['California','Texas','Florida','New York']\n",
    "population = [396113493,29730311,21944577,19299981]\n",
    "# storing lists within a dictionary\n",
    "dict_states = {'States': states,'Population':population}\n",
    "df_population = pd.DataFrame(dict_states)\n",
    "print(df_population)\n",
    "# created dataframe from cvs file\n",
    "df_exams = pd.read_csv(\"StudentsPerformance.csv\")\n",
    "print(df_exams.head())"
   ]
  },
  {
   "cell_type": "markdown",
   "metadata": {},
   "source": [
    "## [Displaying a dataframe](https://www.youtube.com/watch?v=WcDaZ67TVRo&t=6668s)"
   ]
  },
  {
   "cell_type": "code",
   "execution_count": null,
   "metadata": {},
   "outputs": [],
   "source": [
    "df_exams = pd.read_csv(\"StudentsPerformance.csv\")\n",
    "# print(df_exams.head())\n",
    "# print(df_exams.tail())\n",
    "# print(df_exams.head(10))\n",
    "print(df_exams.shape) # displays the number of rows\n",
    "pd.set_option(\"display.max_rows\",10)\n",
    "print(df_exams)"
   ]
  },
  {
   "cell_type": "markdown",
   "metadata": {},
   "source": [
    "## [Basic Attributes, Functions and Methods](https://www.youtube.com/watch?v=WcDaZ67TVRo&t=8064s)"
   ]
  },
  {
   "cell_type": "code",
   "execution_count": 80,
   "metadata": {},
   "outputs": [
    {
     "name": "stdout",
     "output_type": "stream",
     "text": [
      "(1000, 8)\n",
      "RangeIndex(start=0, stop=1000, step=1)\n",
      "Index(['gender', 'race/ethnicity', 'parental level of education', 'lunch',\n",
      "       'test preparation course', 'math score', 'reading score',\n",
      "       'writing score'],\n",
      "      dtype='object')\n",
      "gender                         object\n",
      "race/ethnicity                 object\n",
      "parental level of education    object\n",
      "lunch                          object\n",
      "test preparation course        object\n",
      "math score                      int64\n",
      "reading score                   int64\n",
      "writing score                   int64\n",
      "dtype: object\n"
     ]
    }
   ],
   "source": [
    "df_exams = pd.read_csv(\"StudentsPerformance.csv\")\n",
    "print(df_exams.shape)\n",
    "print(df_exams.index)\n",
    "print(df_exams.columns)\n",
    "print(df_exams.dtypes)"
   ]
  },
  {
   "cell_type": "markdown",
   "metadata": {},
   "source": [
    "## 2 Methods"
   ]
  },
  {
   "cell_type": "code",
   "execution_count": null,
   "metadata": {},
   "outputs": [],
   "source": [
    "# showing the first 5 columns\n",
    "df_exams.head(5)\n",
    "df_exams.info()\n",
    "df_exams.describe()"
   ]
  },
  {
   "cell_type": "markdown",
   "metadata": {},
   "source": [
    "## 3 Functions"
   ]
  },
  {
   "cell_type": "code",
   "execution_count": null,
   "metadata": {},
   "outputs": [],
   "source": [
    "# obtaining the length of the data frame (number of rows)\n",
    "len(df_exams)\n",
    "# obtaining the highest index and the lowest\n",
    "max(df_exams.index)\n",
    "min(df_exams.index)\n",
    "type(df_exams)\n",
    "# rounding the vaules of the datafame\n",
    "round(df_exams,2)"
   ]
  },
  {
   "cell_type": "markdown",
   "metadata": {},
   "source": [
    "## 1 Selecting one column"
   ]
  },
  {
   "cell_type": "code",
   "execution_count": null,
   "metadata": {},
   "outputs": [],
   "source": [
    "# select a column with []\n",
    "df_exams[\"gender\"]\n",
    "# get the data type of the col\n",
    "type(df_exams[\"gender\"])\n",
    "df_exams[\"gender\"].index\n",
    "df_exams.gender\n",
    "df_exams[\"math score\"]"
   ]
  },
  {
   "cell_type": "markdown",
   "metadata": {},
   "source": [
    "## Selecting two or more columns"
   ]
  },
  {
   "cell_type": "code",
   "execution_count": null,
   "metadata": {},
   "outputs": [],
   "source": [
    "# select 2 columns using [[]]\n",
    "df_racing = pd.read_csv(\"all_race_data.csv\")\n",
    "print(df_racing.columns)\n",
    "df_racing[[\"RACE_TRACK\",\"DRIVER\",\"POS\"]]\n",
    "# type(df_racing[[\"RACE_TRACK\",\"DRIVER\",\"POS\"]])"
   ]
  },
  {
   "cell_type": "markdown",
   "metadata": {},
   "source": [
    "## Adding a new column to the df"
   ]
  },
  {
   "cell_type": "code",
   "execution_count": null,
   "metadata": {},
   "outputs": [],
   "source": [
    "import numpy as np\n",
    "df_exams = pd.read_csv(\"StudentsPerformance.csv\")\n",
    "# adding a new column with a scalar value\n",
    "df_exams[\"lang score\"] = 70\n",
    "lang_score = np.arange(0,1000)\n",
    "int_lang_score = np.random.randint(1,100,size=1000)\n",
    "df_exams[\"lang score\"] = int_lang_score\n",
    "df_exams.head()\n",
    "# random float nums\n",
    "np.random.uniform(1,100,1000)\n"
   ]
  },
  {
   "cell_type": "markdown",
   "metadata": {},
   "source": [
    "## 1 Math Operations"
   ]
  },
  {
   "cell_type": "code",
   "execution_count": null,
   "metadata": {},
   "outputs": [],
   "source": [
    "import numpy as np\n",
    "df_exams = pd.read_csv(\"StudentsPerformance.csv\")\n",
    "df_exams[\"math score\"].sum()\n",
    "df_exams[\"math score\"].count()\n",
    "df_exams[\"math score\"].mean()\n",
    "df_exams[\"math score\"].min()\n",
    "df_exams[\"math score\"].max()\n",
    "df_exams[\"math score\"].std()\n",
    "df_exams.describe()"
   ]
  },
  {
   "cell_type": "code",
   "execution_count": null,
   "metadata": {},
   "outputs": [],
   "source": [
    "# df_exams[\"math score\"] + df_exams[\"reading score\"] + df_exams[\"writing score\"]\n",
    "# calulate avg\n",
    "df_exams[\"average\"] = (df_exams[\"math score\"] + df_exams[\"reading score\"] + df_exams[\"writing score\"])/3\n",
    "df_exams.round(2)\n"
   ]
  },
  {
   "cell_type": "markdown",
   "metadata": {},
   "source": [
    "## 1 Value Counts"
   ]
  },
  {
   "cell_type": "code",
   "execution_count": null,
   "metadata": {},
   "outputs": [],
   "source": [
    "# counting gender elements\n",
    "print(df_exams[\"gender\"].value_counts())\n",
    "# return the relative frequency (divide all values by the sum of the values)\n",
    "print(df_exams[\"gender\"].value_counts(normalize=True).round(2))\n",
    "# counting parental level of educucation\n",
    "df_exams[\"parental level of education\"].value_counts()\n",
    "df_exams[\"parental level of education\"].value_counts(normalize=True).round(2)\n"
   ]
  },
  {
   "cell_type": "markdown",
   "metadata": {},
   "source": [
    "## Sort a dataframe"
   ]
  },
  {
   "cell_type": "code",
   "execution_count": null,
   "metadata": {},
   "outputs": [],
   "source": [
    "# sort by one column\n",
    "df_exams.sort_values(by=\"math score\")\n"
   ]
  },
  {
   "cell_type": "code",
   "execution_count": null,
   "metadata": {},
   "outputs": [],
   "source": [
    "# sort desending by one column\n",
    "df_exams.sort_values(by=\"math score\", ascending=False)\n",
    "df_exams.sort_values(by=[\"math score\",\"reading score\"], ascending=False)\n",
    "# update the values\n",
    "df_exams.sort_values(by=[\"math score\",\"reading score\"], ascending=False, inplace=True)\n",
    "# sort by text using lambda function\n",
    "df_exams.sort_values(by=[\"race/ethnicity\"], ascending=True, key=lambda col:col.str.lower())"
   ]
  },
  {
   "cell_type": "code",
   "execution_count": null,
   "metadata": {},
   "outputs": [],
   "source": [
    "# sort descending by multiple columns"
   ]
  }
 ],
 "metadata": {
  "kernelspec": {
   "display_name": "Python 3",
   "language": "python",
   "name": "python3"
  },
  "language_info": {
   "codemirror_mode": {
    "name": "ipython",
    "version": 3
   },
   "file_extension": ".py",
   "mimetype": "text/x-python",
   "name": "python",
   "nbconvert_exporter": "python",
   "pygments_lexer": "ipython3",
   "version": "3.11.4"
  },
  "orig_nbformat": 4
 },
 "nbformat": 4,
 "nbformat_minor": 2
}
