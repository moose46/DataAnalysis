{
 "cells": [
  {
   "cell_type": "markdown",
   "metadata": {},
   "source": [
    "### [Youtube Video Data Science](https://www.youtube.com/watch?v=WcDaZ67TVRo)"
   ]
  },
  {
   "cell_type": "code",
   "execution_count": 1,
   "metadata": {},
   "outputs": [
    {
     "name": "stdout",
     "output_type": "stream",
     "text": [
      "Hello World!\n"
     ]
    }
   ],
   "source": [
    "# print hello world\n",
    "print(f\"Hello World!\")"
   ]
  },
  {
   "cell_type": "markdown",
   "metadata": {},
   "source": [
    "# Data Types"
   ]
  },
  {
   "cell_type": "code",
   "execution_count": 11,
   "metadata": {},
   "outputs": [
    {
     "name": "stdout",
     "output_type": "stream",
     "text": [
      "3\n",
      "Hexxo Worxd!\n"
     ]
    },
    {
     "data": {
      "text/plain": [
       "'Hello World Bob'"
      ]
     },
     "execution_count": 11,
     "metadata": {},
     "output_type": "execute_result"
    }
   ],
   "source": [
    "# type(1)\n",
    "# type(2.4)\n",
    "type(\"Hello\")\n",
    "print(\"Hello World!\".count(\"l\"))\n",
    "print(\"Hello World!\".replace(\"l\", \"x\"))\n",
    "\"Hello World bob\".title()"
   ]
  },
  {
   "cell_type": "markdown",
   "metadata": {},
   "source": [
    "# Variables"
   ]
  },
  {
   "cell_type": "code",
   "execution_count": 12,
   "metadata": {},
   "outputs": [
    {
     "data": {
      "text/plain": [
       "\"I'm learning python\""
      ]
     },
     "execution_count": 12,
     "metadata": {},
     "output_type": "execute_result"
    }
   ],
   "source": [
    "message_1 = \"I'm learning python\"\n",
    "message_1"
   ]
  },
  {
   "cell_type": "markdown",
   "metadata": {},
   "source": [
    "# 4  Lists"
   ]
  },
  {
   "cell_type": "code",
   "execution_count": 31,
   "metadata": {},
   "outputs": [
    {
     "name": "stdout",
     "output_type": "stream",
     "text": [
      "China\n",
      "India\n",
      "['Ireland', 'India']\n",
      "['Ireland', 'India', 'china']\n",
      "['Ireland', 'India', 'china']\n",
      "['United States', 'Ireland']\n"
     ]
    }
   ],
   "source": [
    "countries = [\"United States\", \"Ireland\", \"India\", \"china\"]\n",
    "print(countries[3].title())\n",
    "print(countries[-2].title())\n",
    "# slicing\n",
    "print(countries[1:3])\n",
    "print(countries[1:4])\n",
    "print(countries[1:])\n",
    "print(countries[:2])"
   ]
  },
  {
   "cell_type": "markdown",
   "metadata": {},
   "source": [
    "## Adding Elements to the list"
   ]
  },
  {
   "cell_type": "code",
   "execution_count": 44,
   "metadata": {},
   "outputs": [
    {
     "name": "stdout",
     "output_type": "stream",
     "text": [
      "['United States', 'Ireland', 'India', 'china', 'Canada']\n",
      "['Spain', 'United States', 'Ireland', 'India', 'china', 'Canada']\n",
      "['Spain', 'United States', 'Ireland', 'India', 'china', 'Canada', 'UK', 'Germany', 'Austria']\n"
     ]
    },
    {
     "data": {
      "text/plain": [
       "[['Spain', 'United States', 'Ireland', 'India', 'china', 'Canada'],\n",
       " ['UK', 'Germany', 'Austria']]"
      ]
     },
     "execution_count": 44,
     "metadata": {},
     "output_type": "execute_result"
    }
   ],
   "source": [
    "countries = [\"United States\", \"Ireland\", \"India\", \"china\"]\n",
    "countries.append(\"Canada\")\n",
    "print(countries)\n",
    "countries.insert(0, \"Spain\")\n",
    "print(countries)\n",
    "countries_2 = [\"UK\", \"Germany\", \"Austria\"]\n",
    "print(countries + countries_2)\n",
    "# nested list\n",
    "nested_list = [countries, countries_2]\n",
    "nested_list"
   ]
  },
  {
   "cell_type": "code",
   "execution_count": 48,
   "metadata": {},
   "outputs": [
    {
     "name": "stdout",
     "output_type": "stream",
     "text": [
      "['Ireland', 'India', 'china']\n",
      "['Ireland', 'India']\n",
      "['India']\n"
     ]
    }
   ],
   "source": [
    "## Removing an element\n",
    "countries = [\"United States\", \"Ireland\", \"India\", \"china\"]\n",
    "countries.remove(\"United States\")\n",
    "print(countries)\n",
    "countries.pop(-1)\n",
    "print(countries)\n",
    "del countries[0]\n",
    "print(countries)"
   ]
  },
  {
   "cell_type": "markdown",
   "metadata": {},
   "source": []
  },
  {
   "cell_type": "markdown",
   "metadata": {},
   "source": [
    "## Sorting a list"
   ]
  },
  {
   "cell_type": "code",
   "execution_count": 52,
   "metadata": {},
   "outputs": [
    {
     "name": "stdout",
     "output_type": "stream",
     "text": [
      "[1, 2, 3, 4, 7, 10]\n",
      "[10, 7, 4, 3, 2, 1]\n"
     ]
    }
   ],
   "source": [
    "numbers = [4, 3, 10, 7, 1, 2]\n",
    "numbers.sort()\n",
    "print(numbers)\n",
    "numbers.sort(reverse=True)\n",
    "print(numbers)"
   ]
  },
  {
   "cell_type": "markdown",
   "metadata": {},
   "source": [
    "## Update an Element"
   ]
  },
  {
   "cell_type": "code",
   "execution_count": 54,
   "metadata": {},
   "outputs": [
    {
     "name": "stdout",
     "output_type": "stream",
     "text": [
      "[1000, 3, 10, 7, 1, 2]\n"
     ]
    }
   ],
   "source": [
    "numbers = [4, 3, 10, 7, 1, 2]\n",
    "numbers[0] = 1000\n",
    "print(n)"
   ]
  },
  {
   "cell_type": "markdown",
   "metadata": {},
   "source": [
    "## Copying a list"
   ]
  },
  {
   "cell_type": "code",
   "execution_count": 58,
   "metadata": {},
   "outputs": [
    {
     "name": "stdout",
     "output_type": "stream",
     "text": [
      "['United States', 'Ireland', 'India', 'china']\n",
      "['United States', 'Ireland', 'India', 'china']\n"
     ]
    }
   ],
   "source": [
    "countries = [\"United States\", \"Ireland\", \"India\", \"china\"]\n",
    "\n",
    "new_list = countries[:]\n",
    "print(new_list)\n",
    "new_list_copy = countries.copy()\n",
    "print(new_list_copy)"
   ]
  },
  {
   "cell_type": "markdown",
   "metadata": {},
   "source": [
    "## 5 Dictionary"
   ]
  },
  {
   "cell_type": "code",
   "execution_count": 67,
   "metadata": {},
   "outputs": [
    {
     "name": "stdout",
     "output_type": "stream",
     "text": [
      "{'key1': 'v1', 'key2': 'v2'}\n",
      "{'name': 'Frank', 'age': 26}\n",
      "dict_values(['Frank', 26])\n",
      "dict_items([('name', 'Frank'), ('age', 26)])\n",
      "{'name': 'Frank', 'age': 26, 'height': 1.78}\n",
      "{'name': 'Frank', 'age': 26, 'height': 5.8}\n"
     ]
    }
   ],
   "source": [
    "my_dict = {\"key1\": \"v1\", \"key2\": \"v2\"}\n",
    "print(my_dict)\n",
    "my_data = {\"name\": \"Frank\", \"age\": 26}\n",
    "print(my_data)\n",
    "print(my_data.values())\n",
    "print(my_data.items())\n",
    "my_data[\"height\"] = 1.78\n",
    "print(my_data)\n",
    "my_data.update({\"height\": 5.8})\n",
    "print(my_data)"
   ]
  },
  {
   "cell_type": "markdown",
   "metadata": {},
   "source": [
    "## 5.0.1 Copy a Dictionary"
   ]
  },
  {
   "cell_type": "code",
   "execution_count": 71,
   "metadata": {},
   "outputs": [
    {
     "name": "stdout",
     "output_type": "stream",
     "text": [
      "{'name': 'Frank', 'age': 26, 'height': 5.8}\n"
     ]
    }
   ],
   "source": [
    "new_data = my_data.copy()\n",
    "print(new_data)"
   ]
  },
  {
   "cell_type": "markdown",
   "metadata": {},
   "source": [
    "## Remove Element"
   ]
  },
  {
   "cell_type": "code",
   "execution_count": 78,
   "metadata": {},
   "outputs": [
    {
     "name": "stdout",
     "output_type": "stream",
     "text": [
      "{'age': 26, 'height': 5.9}\n",
      "{'height': 5.9}\n",
      "{}\n"
     ]
    }
   ],
   "source": [
    "my_data = {\"name\": \"Frank\", \"age\": 26, \"height\": 5.9}\n",
    "\n",
    "my_data.pop(\"name\")\n",
    "print(my_data)\n",
    "\n",
    "del my_data[\"age\"]\n",
    "print(my_data)\n",
    "my_data.clear()\n",
    "print(my_data)"
   ]
  },
  {
   "cell_type": "markdown",
   "metadata": {},
   "source": [
    "## 6 If Statment"
   ]
  },
  {
   "cell_type": "code",
   "execution_count": 87,
   "metadata": {},
   "outputs": [
    {
     "name": "stdout",
     "output_type": "stream",
     "text": [
      "Goodbye World! (elif)\n"
     ]
    }
   ],
   "source": [
    "age = 75\n",
    "if age == 76:\n",
    "    print(\"Hello World! (if)\")\n",
    "elif age < 77:\n",
    "    print(\"Goodbye World! (elif)\")\n",
    "else:\n",
    "    print(\"Say Hello World! (else)\")"
   ]
  },
  {
   "cell_type": "markdown",
   "metadata": {},
   "source": [
    "## 7 For Loop"
   ]
  },
  {
   "cell_type": "code",
   "execution_count": 93,
   "metadata": {},
   "outputs": [
    {
     "name": "stdout",
     "output_type": "stream",
     "text": [
      "United States\n",
      "Ireland\n",
      "India\n",
      "china\n",
      "0: United States\n",
      "1: Ireland\n",
      "2: India\n",
      "3: china\n",
      "{'name': 'Bob', 'age': 77}\n",
      "name : Bob\n",
      "age : 77\n"
     ]
    }
   ],
   "source": [
    "countries = [\"United States\", \"Ireland\", \"India\", \"china\"]\n",
    "for country in countries:\n",
    "    print(country)\n",
    "for i, country in enumerate(countries):\n",
    "    print(f\"{i}: {country}\")\n",
    "\n",
    "my_data = {\"name\": \"Bob\", \"age\": 77}\n",
    "print(my_data)\n",
    "for key, value in my_data.items():\n",
    "    print(f\"{key} : {value}\")\n"
   ]
  },
  {
   "cell_type": "markdown",
   "metadata": {},
   "source": [
    "## 8 Functions"
   ]
  },
  {
   "cell_type": "code",
   "execution_count": 104,
   "metadata": {},
   "outputs": [
    {
     "name": "stdout",
     "output_type": "stream",
     "text": [
      "3\n",
      "4\n",
      "99\n",
      "3\n",
      "<class 'list'>\n",
      "1\n",
      "3\n",
      "5\n",
      "7\n",
      "9\n"
     ]
    }
   ],
   "source": [
    "def sum_values(a,b):\n",
    "\tx =  a + b\n",
    "\treturn x\n",
    "print(sum_values(1,2))\n",
    "countries = [\"United States\", \"Ireland\", \"India\", \"china\"]\n",
    "\n",
    "print(len(countries))\n",
    "numbers = [10,99,81,3,50]\n",
    "print(max(numbers))\n",
    "print(min(numbers))\n",
    "print(type(countries))\n",
    "numbers = range(1,10,2)\n",
    "for x in numbers:\n",
    "\tprint(x)"
   ]
  },
  {
   "cell_type": "markdown",
   "metadata": {},
   "source": [
    "## 9 Module"
   ]
  },
  {
   "cell_type": "code",
   "execution_count": 109,
   "metadata": {},
   "outputs": [
    {
     "name": "stdout",
     "output_type": "stream",
     "text": [
      "c:\\Users\\me\\Documents\\VisualCodeSource\\DataAnalysis\n",
      "['.venv', 'example1.ipynb']\n",
      "['.venv', 'example1.ipynb', 'New Folder']\n"
     ]
    }
   ],
   "source": [
    "import os\n",
    "print(os.getcwd())\n",
    "print(os.listdir())\n",
    "\n",
    "os.makedirs(\"New Folder\")\n",
    "print(os.listdir())\n"
   ]
  }
 ],
 "metadata": {
  "kernelspec": {
   "display_name": "Python 3",
   "language": "python",
   "name": "python3"
  },
  "language_info": {
   "codemirror_mode": {
    "name": "ipython",
    "version": 3
   },
   "file_extension": ".py",
   "mimetype": "text/x-python",
   "name": "python",
   "nbconvert_exporter": "python",
   "pygments_lexer": "ipython3",
   "version": "3.11.4"
  },
  "orig_nbformat": 4
 },
 "nbformat": 4,
 "nbformat_minor": 2
}
